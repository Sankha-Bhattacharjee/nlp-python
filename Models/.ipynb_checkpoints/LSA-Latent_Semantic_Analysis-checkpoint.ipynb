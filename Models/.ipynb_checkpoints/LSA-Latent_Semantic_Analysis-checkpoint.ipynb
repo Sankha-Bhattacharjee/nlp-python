{
 "cells": [
  {
   "cell_type": "markdown",
   "id": "61cd9ae3",
   "metadata": {},
   "source": [
    "# Latent Semantic Analysis\n",
    "Latent Semantic Analysis is a technique of analysing relationships between a set of documents and the terms they contain by producing a set of concepts related to the documents and terms - wikipedia\n",
    "\n",
    "<br>\n",
    "SVD - Singular Value Decomposition\n"
   ]
  },
  {
   "cell_type": "code",
   "execution_count": 13,
   "id": "a93961e0",
   "metadata": {},
   "outputs": [],
   "source": [
    "from sklearn.feature_extraction.text import TfidfVectorizer\n",
    "from sklearn.decomposition import TruncatedSVD\n",
    "import numpy as np\n",
    "import nltk"
   ]
  },
  {
   "cell_type": "markdown",
   "id": "f62533e5",
   "metadata": {},
   "source": [
    "### Sample Data"
   ]
  },
  {
   "cell_type": "code",
   "execution_count": 2,
   "id": "818e0d0a",
   "metadata": {},
   "outputs": [],
   "source": [
    "dataset = [\"The amount of polution is increasing day by day\",\n",
    "           \"The concert was just great\",\n",
    "           \"I love to see Gordon Ramsay cook\",\n",
    "           \"Google is introducing a new technology\",\n",
    "           \"AI Robots are examples of great technology present today\",\n",
    "           \"All of us were singing in the concert\",\n",
    "           \"We have launch campaigns to stop pollution and global warming\"]"
   ]
  },
  {
   "cell_type": "code",
   "execution_count": 3,
   "id": "cc03e67a",
   "metadata": {},
   "outputs": [
    {
     "data": {
      "text/plain": [
       "['the amount of polution is increasing day by day',\n",
       " 'the concert was just great',\n",
       " 'i love to see gordon ramsay cook',\n",
       " 'google is introducing a new technology',\n",
       " 'ai robots are examples of great technology present today',\n",
       " 'all of us were singing in the concert',\n",
       " 'we have launch campaigns to stop pollution and global warming']"
      ]
     },
     "execution_count": 3,
     "metadata": {},
     "output_type": "execute_result"
    }
   ],
   "source": [
    "dataset = [line.lower() for line in dataset]\n",
    "dataset"
   ]
  },
  {
   "cell_type": "code",
   "execution_count": 4,
   "id": "76e258ca",
   "metadata": {},
   "outputs": [
    {
     "data": {
      "text/plain": [
       "<7x42 sparse matrix of type '<class 'numpy.float64'>'\n",
       "\twith 51 stored elements in Compressed Sparse Row format>"
      ]
     },
     "execution_count": 4,
     "metadata": {},
     "output_type": "execute_result"
    }
   ],
   "source": [
    "vectorizer = TfidfVectorizer()\n",
    "X = vectorizer.fit_transform(dataset)\n",
    "X"
   ]
  },
  {
   "cell_type": "code",
   "execution_count": 5,
   "id": "7b0b7de7",
   "metadata": {},
   "outputs": [
    {
     "name": "stdout",
     "output_type": "stream",
     "text": [
      "  (0, 5)\t0.3211483974289089\n",
      "  (0, 9)\t0.6422967948578178\n",
      "  (0, 17)\t0.3211483974289089\n",
      "  (0, 19)\t0.2665807498646048\n",
      "  (0, 26)\t0.3211483974289089\n",
      "  (0, 24)\t0.2278643877752444\n",
      "  (0, 2)\t0.3211483974289089\n",
      "  (0, 34)\t0.2278643877752444\n"
     ]
    }
   ],
   "source": [
    "print(X[0])"
   ]
  },
  {
   "cell_type": "code",
   "execution_count": 6,
   "id": "b5e757cf",
   "metadata": {},
   "outputs": [
    {
     "data": {
      "text/html": [
       "<style>#sk-container-id-1 {color: black;background-color: white;}#sk-container-id-1 pre{padding: 0;}#sk-container-id-1 div.sk-toggleable {background-color: white;}#sk-container-id-1 label.sk-toggleable__label {cursor: pointer;display: block;width: 100%;margin-bottom: 0;padding: 0.3em;box-sizing: border-box;text-align: center;}#sk-container-id-1 label.sk-toggleable__label-arrow:before {content: \"▸\";float: left;margin-right: 0.25em;color: #696969;}#sk-container-id-1 label.sk-toggleable__label-arrow:hover:before {color: black;}#sk-container-id-1 div.sk-estimator:hover label.sk-toggleable__label-arrow:before {color: black;}#sk-container-id-1 div.sk-toggleable__content {max-height: 0;max-width: 0;overflow: hidden;text-align: left;background-color: #f0f8ff;}#sk-container-id-1 div.sk-toggleable__content pre {margin: 0.2em;color: black;border-radius: 0.25em;background-color: #f0f8ff;}#sk-container-id-1 input.sk-toggleable__control:checked~div.sk-toggleable__content {max-height: 200px;max-width: 100%;overflow: auto;}#sk-container-id-1 input.sk-toggleable__control:checked~label.sk-toggleable__label-arrow:before {content: \"▾\";}#sk-container-id-1 div.sk-estimator input.sk-toggleable__control:checked~label.sk-toggleable__label {background-color: #d4ebff;}#sk-container-id-1 div.sk-label input.sk-toggleable__control:checked~label.sk-toggleable__label {background-color: #d4ebff;}#sk-container-id-1 input.sk-hidden--visually {border: 0;clip: rect(1px 1px 1px 1px);clip: rect(1px, 1px, 1px, 1px);height: 1px;margin: -1px;overflow: hidden;padding: 0;position: absolute;width: 1px;}#sk-container-id-1 div.sk-estimator {font-family: monospace;background-color: #f0f8ff;border: 1px dotted black;border-radius: 0.25em;box-sizing: border-box;margin-bottom: 0.5em;}#sk-container-id-1 div.sk-estimator:hover {background-color: #d4ebff;}#sk-container-id-1 div.sk-parallel-item::after {content: \"\";width: 100%;border-bottom: 1px solid gray;flex-grow: 1;}#sk-container-id-1 div.sk-label:hover label.sk-toggleable__label {background-color: #d4ebff;}#sk-container-id-1 div.sk-serial::before {content: \"\";position: absolute;border-left: 1px solid gray;box-sizing: border-box;top: 0;bottom: 0;left: 50%;z-index: 0;}#sk-container-id-1 div.sk-serial {display: flex;flex-direction: column;align-items: center;background-color: white;padding-right: 0.2em;padding-left: 0.2em;position: relative;}#sk-container-id-1 div.sk-item {position: relative;z-index: 1;}#sk-container-id-1 div.sk-parallel {display: flex;align-items: stretch;justify-content: center;background-color: white;position: relative;}#sk-container-id-1 div.sk-item::before, #sk-container-id-1 div.sk-parallel-item::before {content: \"\";position: absolute;border-left: 1px solid gray;box-sizing: border-box;top: 0;bottom: 0;left: 50%;z-index: -1;}#sk-container-id-1 div.sk-parallel-item {display: flex;flex-direction: column;z-index: 1;position: relative;background-color: white;}#sk-container-id-1 div.sk-parallel-item:first-child::after {align-self: flex-end;width: 50%;}#sk-container-id-1 div.sk-parallel-item:last-child::after {align-self: flex-start;width: 50%;}#sk-container-id-1 div.sk-parallel-item:only-child::after {width: 0;}#sk-container-id-1 div.sk-dashed-wrapped {border: 1px dashed gray;margin: 0 0.4em 0.5em 0.4em;box-sizing: border-box;padding-bottom: 0.4em;background-color: white;}#sk-container-id-1 div.sk-label label {font-family: monospace;font-weight: bold;display: inline-block;line-height: 1.2em;}#sk-container-id-1 div.sk-label-container {text-align: center;}#sk-container-id-1 div.sk-container {/* jupyter's `normalize.less` sets `[hidden] { display: none; }` but bootstrap.min.css set `[hidden] { display: none !important; }` so we also need the `!important` here to be able to override the default hidden behavior on the sphinx rendered scikit-learn.org. See: https://github.com/scikit-learn/scikit-learn/issues/21755 */display: inline-block !important;position: relative;}#sk-container-id-1 div.sk-text-repr-fallback {display: none;}</style><div id=\"sk-container-id-1\" class=\"sk-top-container\"><div class=\"sk-text-repr-fallback\"><pre>TruncatedSVD(n_components=4, n_iter=100)</pre><b>In a Jupyter environment, please rerun this cell to show the HTML representation or trust the notebook. <br />On GitHub, the HTML representation is unable to render, please try loading this page with nbviewer.org.</b></div><div class=\"sk-container\" hidden><div class=\"sk-item\"><div class=\"sk-estimator sk-toggleable\"><input class=\"sk-toggleable__control sk-hidden--visually\" id=\"sk-estimator-id-1\" type=\"checkbox\" checked><label for=\"sk-estimator-id-1\" class=\"sk-toggleable__label sk-toggleable__label-arrow\">TruncatedSVD</label><div class=\"sk-toggleable__content\"><pre>TruncatedSVD(n_components=4, n_iter=100)</pre></div></div></div></div></div>"
      ],
      "text/plain": [
       "TruncatedSVD(n_components=4, n_iter=100)"
      ]
     },
     "execution_count": 6,
     "metadata": {},
     "output_type": "execute_result"
    }
   ],
   "source": [
    "lsa = TruncatedSVD(n_components=4, n_iter=100)\n",
    "lsa.fit(X)"
   ]
  },
  {
   "cell_type": "code",
   "execution_count": 7,
   "id": "16cec212",
   "metadata": {},
   "outputs": [
    {
     "data": {
      "text/plain": [
       "(4, 42)"
      ]
     },
     "execution_count": 7,
     "metadata": {},
     "output_type": "execute_result"
    }
   ],
   "source": [
    "lsa.components_.shape"
   ]
  },
  {
   "cell_type": "code",
   "execution_count": 8,
   "id": "603c786b",
   "metadata": {},
   "outputs": [
    {
     "data": {
      "text/plain": [
       "(42,)"
      ]
     },
     "execution_count": 8,
     "metadata": {},
     "output_type": "execute_result"
    }
   ],
   "source": [
    "lsa.components_[0].shape"
   ]
  },
  {
   "cell_type": "code",
   "execution_count": 11,
   "id": "0b8f7eb7",
   "metadata": {},
   "outputs": [
    {
     "name": "stdout",
     "output_type": "stream",
     "text": [
      "terms: ['ai' 'all' 'amount' 'and' 'are' 'by' 'campaigns' 'concert' 'cook' 'day'\n",
      " 'examples' 'global' 'google' 'gordon' 'great' 'have' 'in' 'increasing'\n",
      " 'introducing' 'is' 'just' 'launch' 'love' 'new' 'of' 'pollution'\n",
      " 'polution' 'present' 'ramsay' 'robots' 'see' 'singing' 'stop'\n",
      " 'technology' 'the' 'to' 'today' 'us' 'warming' 'was' 'we' 'were']\n"
     ]
    }
   ],
   "source": [
    "terms = vectorizer.get_feature_names_out()\n",
    "print('terms',terms, sep=\": \")\n",
    "concept_words ={}\n",
    "\n",
    "for i, comp in enumerate(lsa.components_):\n",
    "    #print('(i, comp)', (i, comp), sep=\": \")\n",
    "    component_terms = zip(terms, comp)\n",
    "    #print('component_terms', component_terms, sep=\": \")\n",
    "    sorted_terms = sorted(component_terms, key = lambda x:x[1], reverse = True)\n",
    "    #print('sorted_terms', sorted_terms, sep=\": \")\n",
    "    sorted_terms = sorted_terms[:10]\n",
    "    concept_words['Concept '+str(i)] = sorted_terms\n",
    "    #print(concept_words)\n",
    "    #print('\\nConcept' ,i,': ')\n",
    "    #for term in sorted_terms:\n",
    "        #print(term)\n",
    "    \n"
   ]
  },
  {
   "cell_type": "code",
   "execution_count": 15,
   "id": "d57df911",
   "metadata": {},
   "outputs": [
    {
     "name": "stdout",
     "output_type": "stream",
     "text": [
      "\n",
      "Concept 0:\n",
      "1.1297395470753955\n",
      "1.4959427190164012\n",
      "0\n",
      "0.1838383456741348\n",
      "0.7797604325216755\n",
      "1.373365598990949\n",
      "0\n",
      "\n",
      "Concept 1:\n",
      "0\n",
      "0\n",
      "1.833746733642543\n",
      "0\n",
      "0\n",
      "0\n",
      "1.2850142324187055\n",
      "\n",
      "Concept 2:\n",
      "0.6242100916830957\n",
      "0\n",
      "0\n",
      "1.7440703383075622\n",
      "0.8334337554863578\n",
      "0\n",
      "0\n",
      "\n",
      "Concept 3:\n",
      "2.2015937554478837\n",
      "0.12724213180694421\n",
      "0\n",
      "0.21264455202449947\n",
      "0\n",
      "0.29658207438874035\n",
      "0\n"
     ]
    }
   ],
   "source": [
    "for key in concept_words.keys():\n",
    "    sentence_scores = []\n",
    "    for sentence in dataset:\n",
    "        words = nltk.word_tokenize(sentence)\n",
    "        score = 0 \n",
    "        for w in words:\n",
    "            for word_with_score in concept_words[key]:\n",
    "                if w == word_with_score[0]:\n",
    "                    score += word_with_score[1]\n",
    "        sentence_scores.append(score)\n",
    "    print(\"\\n\"+key+\":\")\n",
    "    for s in sentence_scores:\n",
    "        print(s)"
   ]
  },
  {
   "cell_type": "code",
   "execution_count": null,
   "id": "7af8c0a7",
   "metadata": {},
   "outputs": [],
   "source": []
  }
 ],
 "metadata": {
  "kernelspec": {
   "display_name": "Python 3 (ipykernel)",
   "language": "python",
   "name": "python3"
  },
  "language_info": {
   "codemirror_mode": {
    "name": "ipython",
    "version": 3
   },
   "file_extension": ".py",
   "mimetype": "text/x-python",
   "name": "python",
   "nbconvert_exporter": "python",
   "pygments_lexer": "ipython3",
   "version": "3.10.9"
  }
 },
 "nbformat": 4,
 "nbformat_minor": 5
}
