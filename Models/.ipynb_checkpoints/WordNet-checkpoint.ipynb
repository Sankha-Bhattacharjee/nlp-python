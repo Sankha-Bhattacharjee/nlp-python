{
 "cells": [
  {
   "cell_type": "code",
   "execution_count": 3,
   "id": "846aa70d",
   "metadata": {},
   "outputs": [],
   "source": [
    "from nltk.corpus import wordnet"
   ]
  },
  {
   "cell_type": "code",
   "execution_count": 15,
   "id": "0fd5d440",
   "metadata": {},
   "outputs": [
    {
     "data": {
      "text/plain": [
       "[Synset('good.n.01'),\n",
       " Synset('good.n.02'),\n",
       " Synset('good.n.03'),\n",
       " Synset('commodity.n.01'),\n",
       " Synset('good.a.01'),\n",
       " Synset('full.s.06'),\n",
       " Synset('good.a.03'),\n",
       " Synset('estimable.s.02'),\n",
       " Synset('beneficial.s.01'),\n",
       " Synset('good.s.06'),\n",
       " Synset('good.s.07'),\n",
       " Synset('adept.s.01'),\n",
       " Synset('good.s.09'),\n",
       " Synset('dear.s.02'),\n",
       " Synset('dependable.s.04'),\n",
       " Synset('good.s.12'),\n",
       " Synset('good.s.13'),\n",
       " Synset('effective.s.04'),\n",
       " Synset('good.s.15'),\n",
       " Synset('good.s.16'),\n",
       " Synset('good.s.17'),\n",
       " Synset('good.s.18'),\n",
       " Synset('good.s.19'),\n",
       " Synset('good.s.20'),\n",
       " Synset('good.s.21'),\n",
       " Synset('well.r.01'),\n",
       " Synset('thoroughly.r.02')]"
      ]
     },
     "execution_count": 15,
     "metadata": {},
     "output_type": "execute_result"
    }
   ],
   "source": [
    "synonyms = []\n",
    "antonyms = []\n",
    "wordnet.synsets(\"good\")"
   ]
  },
  {
   "cell_type": "code",
   "execution_count": 16,
   "id": "e569e1bb",
   "metadata": {},
   "outputs": [
    {
     "name": "stdout",
     "output_type": "stream",
     "text": [
      "{'goodness', 'right', 'serious', 'safe', 'sound', 'honest', 'full', 'adept', 'dependable', 'skilful', 'beneficial', 'soundly', 'in_force', 'in_effect', 'practiced', 'ripe', 'estimable', 'effective', 'near', 'dear', 'just', 'expert', 'skillful', 'unspoilt', 'thoroughly', 'trade_good', 'secure', 'upright', 'commodity', 'honorable', 'good', 'proficient', 'undecomposed', 'unspoiled', 'salutary', 'respectable', 'well'}\n",
      "{'evil', 'evilness', 'ill', 'bad', 'badness'}\n"
     ]
    }
   ],
   "source": [
    "for syn in wordnet.synsets(\"good\"):\n",
    "    #print(syn.lemmas())\n",
    "    for s in syn.lemmas():\n",
    "        #print(s, syn)\n",
    "        synonyms.append(s.name())\n",
    "        for a in s.antonyms():\n",
    "            antonyms.append(a.name())\n",
    "#print(synonyms)\n",
    "print(set(synonyms))\n",
    "print(set(antonyms))"
   ]
  },
  {
   "cell_type": "code",
   "execution_count": null,
   "id": "424bfd2a",
   "metadata": {},
   "outputs": [],
   "source": []
  }
 ],
 "metadata": {
  "kernelspec": {
   "display_name": "Python 3 (ipykernel)",
   "language": "python",
   "name": "python3"
  },
  "language_info": {
   "codemirror_mode": {
    "name": "ipython",
    "version": 3
   },
   "file_extension": ".py",
   "mimetype": "text/x-python",
   "name": "python",
   "nbconvert_exporter": "python",
   "pygments_lexer": "ipython3",
   "version": "3.10.9"
  }
 },
 "nbformat": 4,
 "nbformat_minor": 5
}
