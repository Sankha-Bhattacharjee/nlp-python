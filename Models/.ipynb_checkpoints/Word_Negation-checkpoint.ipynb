{
 "cells": [
  {
   "cell_type": "code",
   "execution_count": 12,
   "id": "95780762",
   "metadata": {},
   "outputs": [],
   "source": [
    "import nltk\n",
    "from nltk.corpus import wordnet"
   ]
  },
  {
   "cell_type": "code",
   "execution_count": 27,
   "id": "e21d8b82",
   "metadata": {},
   "outputs": [],
   "source": [
    "sentence =\"I was not happy with the team's performance\""
   ]
  },
  {
   "cell_type": "code",
   "execution_count": 28,
   "id": "d028f019",
   "metadata": {},
   "outputs": [
    {
     "data": {
      "text/plain": [
       "['I', 'was', 'not', 'happy', 'with', 'the', 'team', \"'s\", 'performance']"
      ]
     },
     "execution_count": 28,
     "metadata": {},
     "output_type": "execute_result"
    }
   ],
   "source": [
    "words = nltk.word_tokenize(sentence)\n",
    "words"
   ]
  },
  {
   "cell_type": "code",
   "execution_count": 29,
   "id": "a98f3e43",
   "metadata": {},
   "outputs": [
    {
     "data": {
      "text/plain": [
       "['I', 'was', 'not_happy', 'with', 'the', 'team', \"'s\", 'performance']"
      ]
     },
     "execution_count": 29,
     "metadata": {},
     "output_type": "execute_result"
    }
   ],
   "source": [
    "new_words =[]\n",
    "temp_word = ''\n",
    "for w in words:\n",
    "    if w == 'not':\n",
    "        temp_word = 'not_'\n",
    "    elif temp_word == 'not_':\n",
    "        w = temp_word + w\n",
    "        temp_word = ''\n",
    "    if w != 'not':\n",
    "       new_words.append(w) \n",
    "new_words"
   ]
  },
  {
   "cell_type": "code",
   "execution_count": 30,
   "id": "9aeb82d7",
   "metadata": {},
   "outputs": [
    {
     "data": {
      "text/plain": [
       "\"I was not_happy with the team 's performance\""
      ]
     },
     "execution_count": 30,
     "metadata": {},
     "output_type": "execute_result"
    }
   ],
   "source": [
    "' '.join(new_words)"
   ]
  },
  {
   "cell_type": "markdown",
   "id": "ba1db542",
   "metadata": {},
   "source": [
    "#### Change not_happy to unhappy"
   ]
  },
  {
   "cell_type": "code",
   "execution_count": 31,
   "id": "6d41c448",
   "metadata": {},
   "outputs": [],
   "source": [
    "def get_antonym(word, antonyms_list):\n",
    "    if word == '' or len(word)==0:\n",
    "        return []\n",
    "    for syn in wordnet.synsets(word):\n",
    "        for s in syn.lemmas():\n",
    "            for a in s.antonyms():\n",
    "                antonyms.append(a.name())\n",
    "    return antonyms_list"
   ]
  },
  {
   "cell_type": "code",
   "execution_count": 32,
   "id": "a2a05533",
   "metadata": {},
   "outputs": [
    {
     "data": {
      "text/plain": [
       "['I', 'was', 'unhappy', 'with', 'the', 'team', \"'s\", 'performance']"
      ]
     },
     "execution_count": 32,
     "metadata": {},
     "output_type": "execute_result"
    }
   ],
   "source": [
    "new_words2 = []\n",
    "temp_word2 = ''\n",
    "\n",
    "for w in words:\n",
    "    antonyms = []\n",
    "    if w == 'not':\n",
    "        temp_word = 'not_'\n",
    "    elif temp_word == 'not_':\n",
    "        antonyms = get_antonym(w, antonyms)\n",
    "        if len(antonyms) >= 1:\n",
    "            w = antonyms[0]\n",
    "        else:\n",
    "            w = temp_word + w\n",
    "        temp_word = ''\n",
    "    if w!='not':\n",
    "        new_words2.append(w)\n",
    "new_words2"
   ]
  },
  {
   "cell_type": "code",
   "execution_count": 33,
   "id": "15babd4a",
   "metadata": {},
   "outputs": [
    {
     "data": {
      "text/plain": [
       "\"I was unhappy with the team 's performance\""
      ]
     },
     "execution_count": 33,
     "metadata": {},
     "output_type": "execute_result"
    }
   ],
   "source": [
    "' '.join(new_words2)"
   ]
  },
  {
   "cell_type": "code",
   "execution_count": null,
   "id": "fa72b098",
   "metadata": {},
   "outputs": [],
   "source": []
  }
 ],
 "metadata": {
  "kernelspec": {
   "display_name": "Python 3 (ipykernel)",
   "language": "python",
   "name": "python3"
  },
  "language_info": {
   "codemirror_mode": {
    "name": "ipython",
    "version": 3
   },
   "file_extension": ".py",
   "mimetype": "text/x-python",
   "name": "python",
   "nbconvert_exporter": "python",
   "pygments_lexer": "ipython3",
   "version": "3.10.9"
  }
 },
 "nbformat": 4,
 "nbformat_minor": 5
}
