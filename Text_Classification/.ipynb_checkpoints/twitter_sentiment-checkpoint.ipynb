{
 "cells": [
  {
   "cell_type": "code",
   "execution_count": 1,
   "id": "fc5e1d38",
   "metadata": {},
   "outputs": [
    {
     "name": "stdout",
     "output_type": "stream",
     "text": [
      "Defaulting to user installation because normal site-packages is not writeable\n",
      "Collecting tweepy\n",
      "  Downloading tweepy-4.14.0-py3-none-any.whl (98 kB)\n",
      "     ---------------------------------------- 98.5/98.5 kB 5.5 MB/s eta 0:00:00\n",
      "Requirement already satisfied: requests<3,>=2.27.0 in d:\\programdata\\anaconda3\\lib\\site-packages (from tweepy) (2.28.1)\n",
      "Collecting requests-oauthlib<2,>=1.2.0\n",
      "  Downloading requests_oauthlib-1.3.1-py2.py3-none-any.whl (23 kB)\n",
      "Collecting oauthlib<4,>=3.2.0\n",
      "  Downloading oauthlib-3.2.2-py3-none-any.whl (151 kB)\n",
      "     -------------------------------------- 151.7/151.7 kB 8.8 MB/s eta 0:00:00\n",
      "Requirement already satisfied: certifi>=2017.4.17 in d:\\programdata\\anaconda3\\lib\\site-packages (from requests<3,>=2.27.0->tweepy) (2022.12.7)\n",
      "Requirement already satisfied: charset-normalizer<3,>=2 in d:\\programdata\\anaconda3\\lib\\site-packages (from requests<3,>=2.27.0->tweepy) (2.0.4)\n",
      "Requirement already satisfied: urllib3<1.27,>=1.21.1 in d:\\programdata\\anaconda3\\lib\\site-packages (from requests<3,>=2.27.0->tweepy) (1.26.14)\n",
      "Requirement already satisfied: idna<4,>=2.5 in d:\\programdata\\anaconda3\\lib\\site-packages (from requests<3,>=2.27.0->tweepy) (3.4)\n",
      "Installing collected packages: oauthlib, requests-oauthlib, tweepy\n",
      "Successfully installed oauthlib-3.2.2 requests-oauthlib-1.3.1 tweepy-4.14.0\n",
      "Note: you may need to restart the kernel to use updated packages.\n"
     ]
    }
   ],
   "source": [
    "pip install tweepy\n"
   ]
  },
  {
   "cell_type": "code",
   "execution_count": 2,
   "id": "f08224ea",
   "metadata": {},
   "outputs": [],
   "source": [
    "import tweepy\n",
    "import re\n",
    "import pickle\n",
    "\n",
    "from tweepy import OAuthHandler"
   ]
  },
  {
   "cell_type": "markdown",
   "id": "d048d0cb",
   "metadata": {},
   "source": [
    "### Initializing Keys"
   ]
  },
  {
   "cell_type": "code",
   "execution_count": 3,
   "id": "7f6d6d53",
   "metadata": {},
   "outputs": [],
   "source": [
    "consumer_key = 'api key'\n",
    "consumer_secret = 'api key secret' \n",
    "access_token = 'access token'\n",
    "access_secret = 'access token secret'"
   ]
  },
  {
   "cell_type": "markdown",
   "id": "44f8f4b4",
   "metadata": {},
   "source": [
    "### Client Authentication"
   ]
  },
  {
   "cell_type": "code",
   "execution_count": 5,
   "id": "e7772679",
   "metadata": {},
   "outputs": [],
   "source": [
    "auth = OAuthHandler(consumer_key, consumer_secret) # authenticates if the application is twitter application\n",
    "auth.set_access_token(access_token, access_secret) # checks if we have access to fetch tweets"
   ]
  },
  {
   "cell_type": "code",
   "execution_count": 12,
   "id": "f0a45b87",
   "metadata": {},
   "outputs": [],
   "source": [
    "args = ['facebook'] # we are going to find tweets about facebook\n",
    "\n",
    "api = tweepy.API(auth, timeout = 10)"
   ]
  },
  {
   "cell_type": "code",
   "execution_count": 16,
   "id": "443f9bfd",
   "metadata": {},
   "outputs": [
    {
     "name": "stdout",
     "output_type": "stream",
     "text": [
      "<bound method API.search_tweets of <tweepy.api.API object at 0x000002190CF4DB10>>\n"
     ]
    }
   ],
   "source": [
    "print(api.search_tweets)"
   ]
  },
  {
   "cell_type": "markdown",
   "id": "375cd84b",
   "metadata": {},
   "source": [
    "### Fetching Real time tweets"
   ]
  },
  {
   "cell_type": "code",
   "execution_count": null,
   "id": "b993db6c",
   "metadata": {},
   "outputs": [],
   "source": [
    "list_tweets = []\n",
    "\n",
    "query = args[0]\n",
    "\n",
    "for status in tweepy.Cursor(api.search_tweets, q=query+\" -filter:retweets\",lang='en', result_type='recent' ).items(100):\n",
    "    list_tweets.append(status.text)\n",
    "## Don't have enough access to search tweets, so this cell gives error"
   ]
  },
  {
   "cell_type": "markdown",
   "id": "61aacb99",
   "metadata": {},
   "source": [
    "### Import our model"
   ]
  },
  {
   "cell_type": "code",
   "execution_count": 20,
   "id": "7fe02d5d",
   "metadata": {},
   "outputs": [],
   "source": [
    "with open('vectorizer.pickle', 'rb') as f:\n",
    "    vectorizer = pickle.load(f)\n",
    "with open('classifier.pickle', 'rb') as f:\n",
    "    clf = pickle.load(f)"
   ]
  },
  {
   "cell_type": "markdown",
   "id": "ff1bcce2",
   "metadata": {},
   "source": [
    "### Preprocess tweets"
   ]
  },
  {
   "cell_type": "code",
   "execution_count": 21,
   "id": "646ad47b",
   "metadata": {},
   "outputs": [],
   "source": [
    "for tweet in list_tweets:\n",
    "    tweet = re.sub(r'^https://t.co/[a-zA-Z0-9]*\\s', ' ', tweet) # remove links from beginning of tweets\n",
    "    tweet = re.sub(r'\\s+https://t.co/[a-zA-Z0-9]*\\s', ' ', tweet) # remove links from middle of tweets\n",
    "    tweet = re.sub(r'https://t.co/[a-zA-Z0-9]*$', ' ', tweet) # remove links from end of tweets\n",
    "    tweet = tweet.lower()\n",
    "    tweet = re.sub(r\"that's\", \"that is\", tweet)\n",
    "    tweet = re.sub(r\"there's\", \"there is\", tweet)\n",
    "    tweet = re.sub(r\"what's\", \"what is\", tweet)\n",
    "    tweet = re.sub(r\"where's\", \"where is\", tweet)\n",
    "    tweet = re.sub(r\"it's\", \"it is\", tweet)\n",
    "    tweet = re.sub(r\"who's\", \"who is\", tweet)\n",
    "    tweet = re.sub(r\"i'm\", \"i am\", tweet)\n",
    "    tweet = re.sub(r\"she's\", \"she is\", tweet)\n",
    "    tweet = re.sub(r\"he's\", \"he is\", tweet)\n",
    "    tweet = re.sub(r\"they're\", \"they are\", tweet)\n",
    "    tweet = re.sub(r\"who're\", \"who are\", tweet)\n",
    "    tweet = re.sub(r\"ain't\", \"am not\", tweet)\n",
    "    tweet = re.sub(r\"wouldn't\", \"would not\", tweet)\n",
    "    tweet = re.sub(r\"shouldn't\", \"should not\", tweet)\n",
    "    tweet = re.sub(r\"couldn't\", \"could not\", tweet)\n",
    "    tweet = re.sub(r\"won't\", \"will not\", tweet)\n",
    "    tweet = re.sub(r\"\\W\", \" \", tweet) # substitute punctuations\n",
    "    tweet = re.sub(r\"\\d\", \" \", tweet) # substitute digits\n",
    "    tweet = re.sub(r\"^[a-z]\\s+\", \" \", tweet) #substitute single character from beginning\n",
    "    tweet = re.sub(r\"\\s+[a-z]\\s+\", \" \", tweet) #substitute single character from middle\n",
    "    tweet = re.sub(r\"\\s+[a-z]$\", \" \", tweet) #substitute single character from end\n",
    "    tweet = re.sub(r\"\\s+\", \" \", tweet) #substitute multiple spaces with single spaces\n",
    "    print(tweet)"
   ]
  },
  {
   "cell_type": "markdown",
   "id": "cfd3b664",
   "metadata": {},
   "source": [
    "### Predict the sentiment"
   ]
  },
  {
   "cell_type": "code",
   "execution_count": null,
   "id": "b9236f91",
   "metadata": {},
   "outputs": [],
   "source": [
    "total_pos_tweets = 0\n",
    "total_pos_tweets = 0\n",
    "for tweet in list_tweets:\n",
    "    sent = clf.predict(vectorizer.transform(list_tweets)).toarray()\n",
    "    print(tweet,\" : \", sent)\n",
    "    if sent[0] ==1:\n",
    "        total_pos_tweets += 1\n",
    "    else:\n",
    "        total_pos_tweets += 1\n",
    "    "
   ]
  },
  {
   "cell_type": "markdown",
   "id": "1d711003",
   "metadata": {},
   "source": [
    "### Plot the predictions"
   ]
  },
  {
   "cell_type": "code",
   "execution_count": 22,
   "id": "e9f65fb7",
   "metadata": {},
   "outputs": [],
   "source": [
    "import matplotlib.pyplot as plt\n",
    "import numpy as np"
   ]
  },
  {
   "cell_type": "code",
   "execution_count": 25,
   "id": "31933d63",
   "metadata": {},
   "outputs": [
    {
     "data": {
      "text/plain": [
       "array([0, 1])"
      ]
     },
     "execution_count": 25,
     "metadata": {},
     "output_type": "execute_result"
    }
   ],
   "source": [
    "objects = ['Positive', 'Negative']\n",
    "y_pos = np.arange(len(objects))\n",
    "y_pos"
   ]
  },
  {
   "cell_type": "code",
   "execution_count": null,
   "id": "ff3ce0d2",
   "metadata": {},
   "outputs": [],
   "source": [
    "plt.bar(y_pos, [total_pos_tweets, total_pos_tweets], alpha=0.5)\n",
    "plt.xticks(y_pos, objects)\n",
    "plt.y_label('Number')\n",
    "plt.title('Number of positive and negative tweets')\n",
    "plt.show()"
   ]
  }
 ],
 "metadata": {
  "kernelspec": {
   "display_name": "Python 3 (ipykernel)",
   "language": "python",
   "name": "python3"
  },
  "language_info": {
   "codemirror_mode": {
    "name": "ipython",
    "version": 3
   },
   "file_extension": ".py",
   "mimetype": "text/x-python",
   "name": "python",
   "nbconvert_exporter": "python",
   "pygments_lexer": "ipython3",
   "version": "3.10.9"
  }
 },
 "nbformat": 4,
 "nbformat_minor": 5
}
