{
 "cells": [
  {
   "cell_type": "markdown",
   "id": "4dc1cd6f",
   "metadata": {},
   "source": [
    "## Simple Natural Language Based Approach\n",
    "\n",
    "Steps: <br>\n",
    "1. Tokenize the paragraph in different sentences\n",
    "2. Preprocess the sentences\n",
    "3. Prepare Histogram\n",
    "4. Convert the histogram into weighted histogram (Divide each of the count by max_count)\n",
    "5. Find sentence scores (we can add weights for that sentence)\n",
    "6. Sort by sentence score in descending order\n",
    "7. Pick N largest "
   ]
  },
  {
   "cell_type": "code",
   "execution_count": 30,
   "id": "fc9dad8a",
   "metadata": {},
   "outputs": [
    {
     "name": "stderr",
     "output_type": "stream",
     "text": [
      "[nltk_data] Downloading package stopwords to\n",
      "[nltk_data]     C:\\Users\\User\\AppData\\Roaming\\nltk_data...\n",
      "[nltk_data]   Package stopwords is already up-to-date!\n"
     ]
    },
    {
     "data": {
      "text/plain": [
       "True"
      ]
     },
     "execution_count": 30,
     "metadata": {},
     "output_type": "execute_result"
    }
   ],
   "source": [
    "import bs4 as bs\n",
    "import urllib.request \n",
    "import re\n",
    "import nltk\n",
    "import heapq\n",
    "nltk.download('stopwords')"
   ]
  },
  {
   "cell_type": "markdown",
   "id": "b3ecb5c0",
   "metadata": {},
   "source": [
    "### Fetch the data from wikipedia"
   ]
  },
  {
   "cell_type": "code",
   "execution_count": 2,
   "id": "21d89100",
   "metadata": {},
   "outputs": [],
   "source": [
    "source = urllib.request.urlopen('https://en.wikipedia.org/wiki/Climate_change').read()"
   ]
  },
  {
   "cell_type": "code",
   "execution_count": 4,
   "id": "b67f6f41",
   "metadata": {},
   "outputs": [],
   "source": [
    "soup = bs.BeautifulSoup(source, 'lxml')"
   ]
  },
  {
   "cell_type": "code",
   "execution_count": 6,
   "id": "4b376ac5",
   "metadata": {},
   "outputs": [],
   "source": [
    "text = ''\n",
    "for p in soup.find_all('p'):\n",
    "    text+= p.text"
   ]
  },
  {
   "cell_type": "markdown",
   "id": "e23b8656",
   "metadata": {},
   "source": [
    "### Preprocessing the text"
   ]
  },
  {
   "cell_type": "code",
   "execution_count": 9,
   "id": "24d5c0dd",
   "metadata": {},
   "outputs": [],
   "source": [
    "text = re.sub(r'\\[[0-9]*\\]',' ', text) # remove reference links e.g. [1][2]\n",
    "text = re.sub(r'\\s+', ' ' , text)"
   ]
  },
  {
   "cell_type": "code",
   "execution_count": 12,
   "id": "2414e1aa",
   "metadata": {},
   "outputs": [],
   "source": [
    "clean_text = text.lower()\n",
    "clean_text = re.sub(r'\\W', ' ', clean_text)\n",
    "clean_text = re.sub(r'\\d', ' ', clean_text)\n",
    "clean_text = re.sub(r'\\s+', ' ', clean_text)\n",
    "\n",
    "## clean_text will be used for creating histogram and using that histogram we will score the sentences in text"
   ]
  },
  {
   "cell_type": "markdown",
   "id": "41b32cea",
   "metadata": {},
   "source": [
    "### Prepare for Histogram"
   ]
  },
  {
   "cell_type": "code",
   "execution_count": 15,
   "id": "ac4641fe",
   "metadata": {},
   "outputs": [
    {
     "data": {
      "text/plain": [
       "475"
      ]
     },
     "execution_count": 15,
     "metadata": {},
     "output_type": "execute_result"
    }
   ],
   "source": [
    "sentences = nltk.sent_tokenize(text)\n",
    "len(sentences)"
   ]
  },
  {
   "cell_type": "code",
   "execution_count": 18,
   "id": "9f4d224e",
   "metadata": {},
   "outputs": [],
   "source": [
    "stopwords = nltk.corpus.stopwords.words('english')"
   ]
  },
  {
   "cell_type": "code",
   "execution_count": 20,
   "id": "4d68e43f",
   "metadata": {},
   "outputs": [],
   "source": [
    "# Basic Histogram\n",
    "word2count = {}\n",
    "\n",
    "for word in nltk.word_tokenize(clean_text):\n",
    "    if word not in stopwords:\n",
    "        if word in word2count.keys():\n",
    "            word2count[word] +=1\n",
    "        else:\n",
    "            word2count[word] = 1\n",
    "#print(word2count)"
   ]
  },
  {
   "cell_type": "code",
   "execution_count": 22,
   "id": "984d7373",
   "metadata": {},
   "outputs": [],
   "source": [
    "# Weighted Histogram\n",
    "max_value = max(word2count.values())\n",
    "\n",
    "for key in word2count.keys():\n",
    "    word2count[key] = word2count[key]/max_value"
   ]
  },
  {
   "cell_type": "markdown",
   "id": "117f8ecb",
   "metadata": {},
   "source": [
    "### Sentence Scores"
   ]
  },
  {
   "cell_type": "code",
   "execution_count": 37,
   "id": "ee8d1a22",
   "metadata": {},
   "outputs": [
    {
     "name": "stdout",
     "output_type": "stream",
     "text": [
      "374\n"
     ]
    }
   ],
   "source": [
    "sent2score ={}\n",
    "\n",
    "for sentence in sentences:\n",
    "    for word in nltk.word_tokenize(sentence.lower()):\n",
    "        if word in word2count.keys():\n",
    "            if len(sentence.split(' ')) < 25:\n",
    "                if sentence not in sent2score.keys():\n",
    "                    sent2score[sentence] = word2count[word]\n",
    "                else:\n",
    "                    sent2score[sentence] += word2count[word]\n",
    "            \n",
    "print(len(sent2score))"
   ]
  },
  {
   "cell_type": "markdown",
   "id": "28688c32",
   "metadata": {},
   "source": [
    "### Find Summary (select N largest sentences)"
   ]
  },
  {
   "cell_type": "code",
   "execution_count": 38,
   "id": "8ead9253",
   "metadata": {},
   "outputs": [],
   "source": [
    "best_sentences = heapq.nlargest(5, sent2score, key = sent2score.get)"
   ]
  },
  {
   "cell_type": "code",
   "execution_count": 36,
   "id": "b37480b3",
   "metadata": {},
   "outputs": [
    {
     "name": "stdout",
     "output_type": "stream",
     "text": [
      "Scientifically, global warming refers only to increased surface warming, while climate change describes both global warming and its effects on Earth's climate system, such as precipitation changes.  In common usage, climate change describes global warming—the ongoing increase in global average temperature—and its effects on Earth's climate system. Adapting to climate change through efforts like flood control measures or drought-resistant crops partially reduces climate change risks, although some limits to adaptation have already been reached. People who hold unwarranted doubt about climate change are called climate change \"skeptics\", although \"contrarians\" or \"deniers\" are more appropriate terms. Climate change can also be used more broadly to include changes to the climate that have happened throughout Earth's history.\n"
     ]
    }
   ],
   "source": [
    "# <30\n",
    "print(' '.join(best_sentences))"
   ]
  },
  {
   "cell_type": "code",
   "execution_count": 39,
   "id": "97041765",
   "metadata": {},
   "outputs": [
    {
     "name": "stdout",
     "output_type": "stream",
     "text": [
      " In common usage, climate change describes global warming—the ongoing increase in global average temperature—and its effects on Earth's climate system. People who hold unwarranted doubt about climate change are called climate change \"skeptics\", although \"contrarians\" or \"deniers\" are more appropriate terms. Climate change can also be used more broadly to include changes to the climate that have happened throughout Earth's history. The long-term effects of climate change on oceans include further ice melt, ocean warming, sea level rise, ocean acidification and ocean deoxygenation. Climate change in a broader sense also includes previous long-term changes to Earth's climate.\n"
     ]
    }
   ],
   "source": [
    "# <25\n",
    "print(' '.join(best_sentences))"
   ]
  },
  {
   "cell_type": "code",
   "execution_count": null,
   "id": "16ec4fae",
   "metadata": {},
   "outputs": [],
   "source": []
  }
 ],
 "metadata": {
  "kernelspec": {
   "display_name": "Python 3 (ipykernel)",
   "language": "python",
   "name": "python3"
  },
  "language_info": {
   "codemirror_mode": {
    "name": "ipython",
    "version": 3
   },
   "file_extension": ".py",
   "mimetype": "text/x-python",
   "name": "python",
   "nbconvert_exporter": "python",
   "pygments_lexer": "ipython3",
   "version": "3.10.9"
  }
 },
 "nbformat": 4,
 "nbformat_minor": 5
}
